{
 "cells": [
  {
   "cell_type": "markdown",
   "metadata": {},
   "source": [
    "Import Required Packages"
   ]
  },
  {
   "cell_type": "code",
   "execution_count": 2,
   "metadata": {},
   "outputs": [],
   "source": [
    "import os\n",
    "import pandas as pd\n",
    "from datetime import datetime"
   ]
  },
  {
   "cell_type": "markdown",
   "metadata": {},
   "source": [
    "Read Source Raw Data File"
   ]
  },
  {
   "cell_type": "code",
   "execution_count": 3,
   "metadata": {},
   "outputs": [
    {
     "data": {
      "text/html": [
       "<div>\n",
       "<style scoped>\n",
       "    .dataframe tbody tr th:only-of-type {\n",
       "        vertical-align: middle;\n",
       "    }\n",
       "\n",
       "    .dataframe tbody tr th {\n",
       "        vertical-align: top;\n",
       "    }\n",
       "\n",
       "    .dataframe thead th {\n",
       "        text-align: right;\n",
       "    }\n",
       "</style>\n",
       "<table border=\"1\" class=\"dataframe\">\n",
       "  <thead>\n",
       "    <tr style=\"text-align: right;\">\n",
       "      <th></th>\n",
       "      <th>2007M01 [2007M01]</th>\n",
       "      <th>2007M02 [2007M02]</th>\n",
       "      <th>2007M03 [2007M03]</th>\n",
       "      <th>2007M04 [2007M04]</th>\n",
       "      <th>2007M05 [2007M05]</th>\n",
       "      <th>2007M06 [2007M06]</th>\n",
       "      <th>2007M07 [2007M07]</th>\n",
       "      <th>2007M08 [2007M08]</th>\n",
       "      <th>2007M09 [2007M09]</th>\n",
       "      <th>2007M10 [2007M10]</th>\n",
       "      <th>...</th>\n",
       "      <th>2023M02 [2023M02]</th>\n",
       "      <th>2023M03 [2023M03]</th>\n",
       "      <th>2023M04 [2023M04]</th>\n",
       "      <th>2023M05 [2023M05]</th>\n",
       "      <th>2023M06 [2023M06]</th>\n",
       "      <th>2023M07 [2023M07]</th>\n",
       "      <th>2023M08 [2023M08]</th>\n",
       "      <th>2023M09 [2023M09]</th>\n",
       "      <th>2023M10 [2023M10]</th>\n",
       "      <th>2023M11 [2023M11]</th>\n",
       "    </tr>\n",
       "  </thead>\n",
       "  <tbody>\n",
       "    <tr>\n",
       "      <th>0</th>\n",
       "      <td>0.000122</td>\n",
       "      <td>0.000122</td>\n",
       "      <td>0.000122</td>\n",
       "      <td>0.000121</td>\n",
       "      <td>0.000121</td>\n",
       "      <td>0.00012</td>\n",
       "      <td>0.00012</td>\n",
       "      <td>0.00012</td>\n",
       "      <td>0.01129</td>\n",
       "      <td>0.014083</td>\n",
       "      <td>...</td>\n",
       "      <td>829.140475</td>\n",
       "      <td>903.554391</td>\n",
       "      <td>967.528175</td>\n",
       "      <td>1389.422391</td>\n",
       "      <td>5230.238379</td>\n",
       "      <td>5063.853413</td>\n",
       "      <td>4581.357543</td>\n",
       "      <td>4922.946548</td>\n",
       "      <td>5643.509091</td>\n",
       "      <td>5810.9205</td>\n",
       "    </tr>\n",
       "  </tbody>\n",
       "</table>\n",
       "<p>1 rows × 202 columns</p>\n",
       "</div>"
      ],
      "text/plain": [
       "   2007M01 [2007M01]  2007M02 [2007M02]  2007M03 [2007M03]  2007M04 [2007M04]  \\\n",
       "0           0.000122           0.000122           0.000122           0.000121   \n",
       "\n",
       "   2007M05 [2007M05]  2007M06 [2007M06]  2007M07 [2007M07]  2007M08 [2007M08]  \\\n",
       "0           0.000121            0.00012            0.00012            0.00012   \n",
       "\n",
       "   2007M09 [2007M09]  2007M10 [2007M10]  ...  2023M02 [2023M02]  \\\n",
       "0            0.01129           0.014083  ...         829.140475   \n",
       "\n",
       "   2023M03 [2023M03]  2023M04 [2023M04]  2023M05 [2023M05]  2023M06 [2023M06]  \\\n",
       "0         903.554391         967.528175        1389.422391        5230.238379   \n",
       "\n",
       "   2023M07 [2023M07]  2023M08 [2023M08]  2023M09 [2023M09]  2023M10 [2023M10]  \\\n",
       "0        5063.853413        4581.357543        4922.946548        5643.509091   \n",
       "\n",
       "   2023M11 [2023M11]  \n",
       "0          5810.9205  \n",
       "\n",
       "[1 rows x 202 columns]"
      ]
     },
     "execution_count": 3,
     "metadata": {},
     "output_type": "execute_result"
    }
   ],
   "source": [
    "path = '/Users/nyashachiza/Projects/Other/exchange-rate-forcasting/data/raw-data/zimbabwe exchange-sorce-data-2007-2023.xlsx'\n",
    "df = pd.read_excel(path)\n",
    "df.head()"
   ]
  },
  {
   "cell_type": "markdown",
   "metadata": {},
   "source": [
    "Tranform raw data"
   ]
  },
  {
   "cell_type": "code",
   "execution_count": 4,
   "metadata": {},
   "outputs": [
    {
     "data": {
      "text/html": [
       "<div>\n",
       "<style scoped>\n",
       "    .dataframe tbody tr th:only-of-type {\n",
       "        vertical-align: middle;\n",
       "    }\n",
       "\n",
       "    .dataframe tbody tr th {\n",
       "        vertical-align: top;\n",
       "    }\n",
       "\n",
       "    .dataframe thead th {\n",
       "        text-align: right;\n",
       "    }\n",
       "</style>\n",
       "<table border=\"1\" class=\"dataframe\">\n",
       "  <thead>\n",
       "    <tr style=\"text-align: right;\">\n",
       "      <th></th>\n",
       "      <th>index</th>\n",
       "      <th>0</th>\n",
       "    </tr>\n",
       "  </thead>\n",
       "  <tbody>\n",
       "    <tr>\n",
       "      <th>0</th>\n",
       "      <td>2007M01 [2007M01]</td>\n",
       "      <td>0.000122</td>\n",
       "    </tr>\n",
       "    <tr>\n",
       "      <th>1</th>\n",
       "      <td>2007M02 [2007M02]</td>\n",
       "      <td>0.000122</td>\n",
       "    </tr>\n",
       "    <tr>\n",
       "      <th>2</th>\n",
       "      <td>2007M03 [2007M03]</td>\n",
       "      <td>0.000122</td>\n",
       "    </tr>\n",
       "    <tr>\n",
       "      <th>3</th>\n",
       "      <td>2007M04 [2007M04]</td>\n",
       "      <td>0.000121</td>\n",
       "    </tr>\n",
       "    <tr>\n",
       "      <th>4</th>\n",
       "      <td>2007M05 [2007M05]</td>\n",
       "      <td>0.000121</td>\n",
       "    </tr>\n",
       "  </tbody>\n",
       "</table>\n",
       "</div>"
      ],
      "text/plain": [
       "               index         0\n",
       "0  2007M01 [2007M01]  0.000122\n",
       "1  2007M02 [2007M02]  0.000122\n",
       "2  2007M03 [2007M03]  0.000122\n",
       "3  2007M04 [2007M04]  0.000121\n",
       "4  2007M05 [2007M05]  0.000121"
      ]
     },
     "execution_count": 4,
     "metadata": {},
     "output_type": "execute_result"
    }
   ],
   "source": [
    "df = df.transpose()\n",
    "df.reset_index(inplace=True)\n",
    "df.head()"
   ]
  },
  {
   "cell_type": "markdown",
   "metadata": {},
   "source": [
    "fix columns and extract date and rate"
   ]
  },
  {
   "cell_type": "code",
   "execution_count": 5,
   "metadata": {},
   "outputs": [
    {
     "data": {
      "text/html": [
       "<div>\n",
       "<style scoped>\n",
       "    .dataframe tbody tr th:only-of-type {\n",
       "        vertical-align: middle;\n",
       "    }\n",
       "\n",
       "    .dataframe tbody tr th {\n",
       "        vertical-align: top;\n",
       "    }\n",
       "\n",
       "    .dataframe thead th {\n",
       "        text-align: right;\n",
       "    }\n",
       "</style>\n",
       "<table border=\"1\" class=\"dataframe\">\n",
       "  <thead>\n",
       "    <tr style=\"text-align: right;\">\n",
       "      <th></th>\n",
       "      <th>period</th>\n",
       "      <th>rate</th>\n",
       "      <th>date</th>\n",
       "    </tr>\n",
       "  </thead>\n",
       "  <tbody>\n",
       "    <tr>\n",
       "      <th>0</th>\n",
       "      <td>2007M01 [2007M01]</td>\n",
       "      <td>0.000122</td>\n",
       "      <td>2007-01-01</td>\n",
       "    </tr>\n",
       "    <tr>\n",
       "      <th>1</th>\n",
       "      <td>2007M02 [2007M02]</td>\n",
       "      <td>0.000122</td>\n",
       "      <td>2007-02-01</td>\n",
       "    </tr>\n",
       "    <tr>\n",
       "      <th>2</th>\n",
       "      <td>2007M03 [2007M03]</td>\n",
       "      <td>0.000122</td>\n",
       "      <td>2007-03-01</td>\n",
       "    </tr>\n",
       "    <tr>\n",
       "      <th>3</th>\n",
       "      <td>2007M04 [2007M04]</td>\n",
       "      <td>0.000121</td>\n",
       "      <td>2007-04-01</td>\n",
       "    </tr>\n",
       "    <tr>\n",
       "      <th>4</th>\n",
       "      <td>2007M05 [2007M05]</td>\n",
       "      <td>0.000121</td>\n",
       "      <td>2007-05-01</td>\n",
       "    </tr>\n",
       "  </tbody>\n",
       "</table>\n",
       "</div>"
      ],
      "text/plain": [
       "              period      rate       date\n",
       "0  2007M01 [2007M01]  0.000122 2007-01-01\n",
       "1  2007M02 [2007M02]  0.000122 2007-02-01\n",
       "2  2007M03 [2007M03]  0.000122 2007-03-01\n",
       "3  2007M04 [2007M04]  0.000121 2007-04-01\n",
       "4  2007M05 [2007M05]  0.000121 2007-05-01"
      ]
     },
     "execution_count": 5,
     "metadata": {},
     "output_type": "execute_result"
    }
   ],
   "source": [
    "\n",
    "df.columns = ['period','rate']  # Rename the unnamed column\n",
    "df['date'] = pd.to_datetime(df['period'].str.split().str[0], format='%YM%m')  # Extract month-year and convert to datetime# df.rename(columns={'index': 'month_year'}, inplace=True)  # Rename the index\n",
    "df.head()"
   ]
  },
  {
   "cell_type": "markdown",
   "metadata": {},
   "source": [
    "drop period column"
   ]
  },
  {
   "cell_type": "code",
   "execution_count": 6,
   "metadata": {},
   "outputs": [
    {
     "data": {
      "text/html": [
       "<div>\n",
       "<style scoped>\n",
       "    .dataframe tbody tr th:only-of-type {\n",
       "        vertical-align: middle;\n",
       "    }\n",
       "\n",
       "    .dataframe tbody tr th {\n",
       "        vertical-align: top;\n",
       "    }\n",
       "\n",
       "    .dataframe thead th {\n",
       "        text-align: right;\n",
       "    }\n",
       "</style>\n",
       "<table border=\"1\" class=\"dataframe\">\n",
       "  <thead>\n",
       "    <tr style=\"text-align: right;\">\n",
       "      <th></th>\n",
       "      <th>rate</th>\n",
       "      <th>date</th>\n",
       "    </tr>\n",
       "  </thead>\n",
       "  <tbody>\n",
       "    <tr>\n",
       "      <th>0</th>\n",
       "      <td>0.000122</td>\n",
       "      <td>2007-01-01</td>\n",
       "    </tr>\n",
       "    <tr>\n",
       "      <th>1</th>\n",
       "      <td>0.000122</td>\n",
       "      <td>2007-02-01</td>\n",
       "    </tr>\n",
       "    <tr>\n",
       "      <th>2</th>\n",
       "      <td>0.000122</td>\n",
       "      <td>2007-03-01</td>\n",
       "    </tr>\n",
       "    <tr>\n",
       "      <th>3</th>\n",
       "      <td>0.000121</td>\n",
       "      <td>2007-04-01</td>\n",
       "    </tr>\n",
       "    <tr>\n",
       "      <th>4</th>\n",
       "      <td>0.000121</td>\n",
       "      <td>2007-05-01</td>\n",
       "    </tr>\n",
       "  </tbody>\n",
       "</table>\n",
       "</div>"
      ],
      "text/plain": [
       "       rate       date\n",
       "0  0.000122 2007-01-01\n",
       "1  0.000122 2007-02-01\n",
       "2  0.000122 2007-03-01\n",
       "3  0.000121 2007-04-01\n",
       "4  0.000121 2007-05-01"
      ]
     },
     "execution_count": 6,
     "metadata": {},
     "output_type": "execute_result"
    }
   ],
   "source": [
    "df.drop(columns=['period'], inplace=True)\n",
    "df.head()\n"
   ]
  },
  {
   "cell_type": "code",
   "execution_count": null,
   "metadata": {},
   "outputs": [],
   "source": []
  },
  {
   "cell_type": "code",
   "execution_count": null,
   "metadata": {},
   "outputs": [],
   "source": [
    "\n"
   ]
  }
 ],
 "metadata": {
  "kernelspec": {
   "display_name": "exchange-rate",
   "language": "python",
   "name": "python3"
  },
  "language_info": {
   "codemirror_mode": {
    "name": "ipython",
    "version": 3
   },
   "file_extension": ".py",
   "mimetype": "text/x-python",
   "name": "python",
   "nbconvert_exporter": "python",
   "pygments_lexer": "ipython3",
   "version": "3.12.0"
  }
 },
 "nbformat": 4,
 "nbformat_minor": 2
}
